{
 "cells": [
  {
   "cell_type": "code",
   "execution_count": 2,
   "id": "311159d3",
   "metadata": {},
   "outputs": [],
   "source": [
    "import pandas as pd\n",
    "df = pd.read_csv(\"../dataset/spotify_songs.csv\")\n",
    "\n",
    "#drop duplicates (songname&artist)\n",
    "df_clean = df.drop_duplicates(subset=[\"track_name\", \"track_artist\"], keep=\"first\").reset_index(drop=True)\n",
    "#print(\"after\", df_clean.shape)\n",
    "\n",
    "df_clean.to_csv(\"../dataset/songsCleaned.csv\", index=False)\n"
   ]
  }
 ],
 "metadata": {
  "kernelspec": {
   "display_name": "Python 3",
   "language": "python",
   "name": "python3"
  },
  "language_info": {
   "codemirror_mode": {
    "name": "ipython",
    "version": 3
   },
   "file_extension": ".py",
   "mimetype": "text/x-python",
   "name": "python",
   "nbconvert_exporter": "python",
   "pygments_lexer": "ipython3",
   "version": "3.10.9"
  }
 },
 "nbformat": 4,
 "nbformat_minor": 5
}
